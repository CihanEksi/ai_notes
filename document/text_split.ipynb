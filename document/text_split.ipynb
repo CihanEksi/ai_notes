{
 "cells": [
  {
   "cell_type": "code",
   "execution_count": 12,
   "metadata": {},
   "outputs": [],
   "source": [
    "text = \"\"\n",
    "with open(\"speech.txt\", \"r\") as file:\n",
    "    text = file.read()"
   ]
  },
  {
   "cell_type": "code",
   "execution_count": 18,
   "metadata": {},
   "outputs": [
    {
     "name": "stdout",
     "output_type": "stream",
     "text": [
      "page_content='doğru tezdir. bu ülke hakikaten mükemmeldir.'\n",
      "page_content='lakin eşyanın tabiatına uygun davranmak gerekir.'\n"
     ]
    }
   ],
   "source": [
    "### text split methods\n",
    "from langchain_text_splitters import RecursiveCharacterTextSplitter\n",
    "\n",
    "textSplitter = RecursiveCharacterTextSplitter(chunk_size=50,chunk_overlap=5)\n",
    "finalDocs = textSplitter.create_documents([text])\n",
    "print(finalDocs[0])\n",
    "print(finalDocs[1])"
   ]
  },
  {
   "cell_type": "code",
   "execution_count": 20,
   "metadata": {},
   "outputs": [],
   "source": [
    "# TEXT loader\n",
    "from langchain_community.document_loaders import TextLoader\n",
    "loader = TextLoader(\"speech.txt\")\n",
    "\n",
    "textDocuments = loader.load()\n"
   ]
  },
  {
   "cell_type": "code",
   "execution_count": 28,
   "metadata": {},
   "outputs": [
    {
     "name": "stdout",
     "output_type": "stream",
     "text": [
      "page_content='doğru tezdir. bu ülke hakikaten mükemmeldir.' metadata={'source': 'speech.txt'}\n",
      "page_content='lakin eşyanın tabiatına uygun davranmak gerekir.' metadata={'source': 'speech.txt'}\n"
     ]
    }
   ],
   "source": [
    "from langchain_text_splitters import RecursiveCharacterTextSplitter\n",
    "\n",
    "textSplitter = RecursiveCharacterTextSplitter(chunk_size=50, chunk_overlap=5, separators=[\"\\n\"])\n",
    "finalDocs = textSplitter.split_documents(textDocuments)\n",
    "print(finalDocs[0])\n",
    "print(finalDocs[1])"
   ]
  }
 ],
 "metadata": {
  "kernelspec": {
   "display_name": "Python 3",
   "language": "python",
   "name": "python3"
  },
  "language_info": {
   "codemirror_mode": {
    "name": "ipython",
    "version": 3
   },
   "file_extension": ".py",
   "mimetype": "text/x-python",
   "name": "python",
   "nbconvert_exporter": "python",
   "pygments_lexer": "ipython3",
   "version": "3.10.16"
  }
 },
 "nbformat": 4,
 "nbformat_minor": 2
}
