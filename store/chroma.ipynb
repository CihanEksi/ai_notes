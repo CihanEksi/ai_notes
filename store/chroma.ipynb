{
 "cells": [
  {
   "cell_type": "code",
   "execution_count": null,
   "metadata": {},
   "outputs": [],
   "source": [
    "%pip install chromadb"
   ]
  },
  {
   "cell_type": "code",
   "execution_count": 4,
   "metadata": {},
   "outputs": [
    {
     "data": {
      "text/plain": [
       "[Document(metadata={'source': 'speech.txt'}, page_content=\"FAISS (Facebook AI Similarity Search), büyük ölçekli vektör arama yapabilen bir kütüphanedir. Yüksek boyutlu vektörleri hızlı bir şekilde aramak ve benzerlik ölçümü yapmak için optimize edilmiştir.\\nÖrneğin, bir metin kümesini vektörlere dönüştürerek, en benzer metinleri bulmak için FAISS kullanılabilir. İlk adım olarak, metinleri belirli bir gömme (embedding) modeli ile vektörlere dönüştürmek gerekir. Daha sonra, bu vektörler FAISS indeksine eklenir ve benzerlik araması yapılır.\\nFAISS'in temel özellikleri şunlardır:\\nYüksek verimli vektör arama\\nGPU ve CPU optimizasyonları\\nÇeşitli indeksleme yöntemleri\\nÖrnek bir kullanım senaryosu şu şekildedir:\\nMetinleri vektörlere dönüştür\\nFAISS ile bir indeks oluştur ve vektörleri ekle\\nBir sorgu vektörü ile en yakın komşuları bul\\nFAISS, büyük veri kümelerinde benzer öğeleri hızlıca bulmak için güçlü bir araçtır.\\nAma FAISS doğrudan cevap oluşturmaz, sadece en benzer metin parçalarını getirir.\")]"
      ]
     },
     "execution_count": 4,
     "metadata": {},
     "output_type": "execute_result"
    }
   ],
   "source": [
    "from langchain_chroma import Chroma\n",
    "from langchain_community.document_loaders import TextLoader\n",
    "from langchain_ollama import OllamaEmbeddings\n",
    "from langchain_text_splitters import RecursiveCharacterTextSplitter\n",
    "\n",
    "loader = TextLoader('speech.txt')\n",
    "data=loader.load()\n",
    "data"
   ]
  },
  {
   "cell_type": "code",
   "execution_count": 9,
   "metadata": {},
   "outputs": [],
   "source": [
    "#Split\n",
    "text_splitter = RecursiveCharacterTextSplitter(chunk_size=50,chunk_overlap=10)\n",
    "splits = text_splitter.split_documents(data)\n",
    "\n",
    "##Embed\n",
    "modelName = 'llama3.2:1b'\n",
    "embedding = OllamaEmbeddings(model=modelName)"
   ]
  },
  {
   "cell_type": "code",
   "execution_count": null,
   "metadata": {},
   "outputs": [
    {
     "data": {
      "text/plain": [
       "<langchain_chroma.vectorstores.Chroma at 0x29c9c48bd00>"
      ]
     },
     "execution_count": 10,
     "metadata": {},
     "output_type": "execute_result"
    }
   ],
   "source": [
    "## Vector DB\n",
    "chroma = Chroma.from_documents(documents=splits, embedding=embedding)\n",
    "chroma"
   ]
  },
  {
   "cell_type": "code",
   "execution_count": 11,
   "metadata": {},
   "outputs": [
    {
     "data": {
      "text/plain": [
       "[Document(id='32c0065a-539b-47eb-8bff-5339679f90ae', metadata={'source': 'speech.txt'}, page_content=\"FAISS'in temel özellikleri şunlardır:\"),\n",
       " Document(id='6f79a23a-60bc-4fbf-9dcb-b6f7682a3684', metadata={'source': 'speech.txt'}, page_content=\"FAISS'in temel özellikleri şunlardır:\"),\n",
       " Document(id='75063304-38cc-418d-8df6-4cd4e4cdbdba', metadata={'source': 'speech.txt'}, page_content='sadece en benzer metin parçalarını getirir.')]"
      ]
     },
     "execution_count": 11,
     "metadata": {},
     "output_type": "execute_result"
    }
   ],
   "source": [
    "## querying\n",
    "query='''FAISS'in temel özellikleri nelerdir?'''\n",
    "docs = chroma.similarity_search(query, k=3)\n",
    "docs"
   ]
  },
  {
   "cell_type": "code",
   "execution_count": null,
   "metadata": {},
   "outputs": [
    {
     "data": {
      "text/plain": [
       "<langchain_chroma.vectorstores.Chroma at 0x29c9c48a2c0>"
      ]
     },
     "execution_count": 13,
     "metadata": {},
     "output_type": "execute_result"
    }
   ],
   "source": [
    "## saving to the disk\n",
    "## Vector DB\n",
    "persist_directory = './chroma'\n",
    "chroma = Chroma.from_documents(documents=splits, embedding=embedding, persist_directory=persist_directory) # or chroma.save(persist_directory)\n",
    "chroma"
   ]
  },
  {
   "cell_type": "code",
   "execution_count": 20,
   "metadata": {},
   "outputs": [
    {
     "data": {
      "text/plain": [
       "<langchain_chroma.vectorstores.Chroma at 0x29c9e405840>"
      ]
     },
     "execution_count": 20,
     "metadata": {},
     "output_type": "execute_result"
    }
   ],
   "source": [
    "# load from disk\n",
    "chroma2 = Chroma(persist_directory=persist_directory,embedding_function=embedding)\n",
    "chroma2"
   ]
  },
  {
   "cell_type": "code",
   "execution_count": 23,
   "metadata": {},
   "outputs": [
    {
     "data": {
      "text/plain": [
       "[(Document(id='58ceb353-462b-477f-ae06-805b2ba139ab', metadata={'source': 'speech.txt'}, page_content=\"FAISS'in temel özellikleri şunlardır:\"),\n",
       "  0.31311859881279513),\n",
       " (Document(id='9664b794-5d0a-48d7-b692-1708a33e08bd', metadata={'source': 'speech.txt'}, page_content='sadece en benzer metin parçalarını getirir.'),\n",
       "  0.7441930856059233),\n",
       " (Document(id='3d994ae9-9b42-4a9f-bec5-565250fc8256', metadata={'source': 'speech.txt'}, page_content='Örnek bir kullanım senaryosu şu şekildedir:'),\n",
       "  0.7494630934148299)]"
      ]
     },
     "execution_count": 23,
     "metadata": {},
     "output_type": "execute_result"
    }
   ],
   "source": [
    "docs = chroma2.similarity_search_with_score(query, k=3)\n",
    "docs"
   ]
  },
  {
   "cell_type": "code",
   "execution_count": null,
   "metadata": {},
   "outputs": [
    {
     "data": {
      "text/plain": [
       "[Document(id='58ceb353-462b-477f-ae06-805b2ba139ab', metadata={'source': 'speech.txt'}, page_content=\"FAISS'in temel özellikleri şunlardır:\"),\n",
       " Document(id='9664b794-5d0a-48d7-b692-1708a33e08bd', metadata={'source': 'speech.txt'}, page_content='sadece en benzer metin parçalarını getirir.'),\n",
       " Document(id='3d994ae9-9b42-4a9f-bec5-565250fc8256', metadata={'source': 'speech.txt'}, page_content='Örnek bir kullanım senaryosu şu şekildedir:')]"
      ]
     },
     "execution_count": 26,
     "metadata": {},
     "output_type": "execute_result"
    },
    {
     "ename": "",
     "evalue": "",
     "output_type": "error",
     "traceback": [
      "\u001b[1;31mThe Kernel crashed while executing code in the current cell or a previous cell. \n",
      "\u001b[1;31mPlease review the code in the cell(s) to identify a possible cause of the failure. \n",
      "\u001b[1;31mClick <a href='https://aka.ms/vscodeJupyterKernelCrash'>here</a> for more info. \n",
      "\u001b[1;31mView Jupyter <a href='command:jupyter.viewOutput'>log</a> for further details."
     ]
    }
   ],
   "source": [
    "### Retriever option\n",
    "retriever = chroma2.as_retriever()\n",
    "retriever.invoke(query, k=3)"
   ]
  }
 ],
 "metadata": {
  "kernelspec": {
   "display_name": "Python 3",
   "language": "python",
   "name": "python3"
  },
  "language_info": {
   "codemirror_mode": {
    "name": "ipython",
    "version": 3
   },
   "file_extension": ".py",
   "mimetype": "text/x-python",
   "name": "python",
   "nbconvert_exporter": "python",
   "pygments_lexer": "ipython3",
   "version": "3.10.16"
  }
 },
 "nbformat": 4,
 "nbformat_minor": 2
}
