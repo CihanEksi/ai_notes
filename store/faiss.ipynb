{
 "cells": [
  {
   "cell_type": "code",
   "execution_count": 2,
   "metadata": {},
   "outputs": [
    {
     "name": "stdout",
     "output_type": "stream",
     "text": [
      "Requirement already satisfied: faiss-cpu in c:\\users\\administrator\\desktop\\langchain\\venv\\lib\\site-packages (1.10.0)\n",
      "Requirement already satisfied: numpy<3.0,>=1.25.0 in c:\\users\\administrator\\desktop\\langchain\\venv\\lib\\site-packages (from faiss-cpu) (1.26.4)\n",
      "Requirement already satisfied: packaging in c:\\users\\administrator\\desktop\\langchain\\venv\\lib\\site-packages (from faiss-cpu) (24.2)\n",
      "Note: you may need to restart the kernel to use updated packages.\n",
      "Requirement already satisfied: langchain_ollama in c:\\users\\administrator\\desktop\\langchain\\venv\\lib\\site-packages (0.2.3)\n",
      "Requirement already satisfied: langchain-core<0.4.0,>=0.3.33 in c:\\users\\administrator\\desktop\\langchain\\venv\\lib\\site-packages (from langchain_ollama) (0.3.40)\n",
      "Requirement already satisfied: ollama<1,>=0.4.4 in c:\\users\\administrator\\desktop\\langchain\\venv\\lib\\site-packages (from langchain_ollama) (0.4.7)\n",
      "Requirement already satisfied: langsmith<0.4,>=0.1.125 in c:\\users\\administrator\\desktop\\langchain\\venv\\lib\\site-packages (from langchain-core<0.4.0,>=0.3.33->langchain_ollama) (0.3.11)\n",
      "Requirement already satisfied: tenacity!=8.4.0,<10.0.0,>=8.1.0 in c:\\users\\administrator\\desktop\\langchain\\venv\\lib\\site-packages (from langchain-core<0.4.0,>=0.3.33->langchain_ollama) (9.0.0)\n",
      "Requirement already satisfied: jsonpatch<2.0,>=1.33 in c:\\users\\administrator\\desktop\\langchain\\venv\\lib\\site-packages (from langchain-core<0.4.0,>=0.3.33->langchain_ollama) (1.33)\n",
      "Requirement already satisfied: PyYAML>=5.3 in c:\\users\\administrator\\desktop\\langchain\\venv\\lib\\site-packages (from langchain-core<0.4.0,>=0.3.33->langchain_ollama) (6.0.2)\n",
      "Requirement already satisfied: packaging<25,>=23.2 in c:\\users\\administrator\\desktop\\langchain\\venv\\lib\\site-packages (from langchain-core<0.4.0,>=0.3.33->langchain_ollama) (24.2)\n",
      "Requirement already satisfied: typing-extensions>=4.7 in c:\\users\\administrator\\desktop\\langchain\\venv\\lib\\site-packages (from langchain-core<0.4.0,>=0.3.33->langchain_ollama) (4.12.2)\n",
      "Requirement already satisfied: pydantic<3.0.0,>=2.5.2 in c:\\users\\administrator\\desktop\\langchain\\venv\\lib\\site-packages (from langchain-core<0.4.0,>=0.3.33->langchain_ollama) (2.10.6)\n",
      "Requirement already satisfied: httpx<0.29,>=0.27 in c:\\users\\administrator\\desktop\\langchain\\venv\\lib\\site-packages (from ollama<1,>=0.4.4->langchain_ollama) (0.28.1)\n",
      "Requirement already satisfied: anyio in c:\\users\\administrator\\desktop\\langchain\\venv\\lib\\site-packages (from httpx<0.29,>=0.27->ollama<1,>=0.4.4->langchain_ollama) (4.8.0)\n",
      "Requirement already satisfied: certifi in c:\\users\\administrator\\desktop\\langchain\\venv\\lib\\site-packages (from httpx<0.29,>=0.27->ollama<1,>=0.4.4->langchain_ollama) (2025.1.31)\n",
      "Requirement already satisfied: httpcore==1.* in c:\\users\\administrator\\desktop\\langchain\\venv\\lib\\site-packages (from httpx<0.29,>=0.27->ollama<1,>=0.4.4->langchain_ollama) (1.0.7)\n",
      "Requirement already satisfied: idna in c:\\users\\administrator\\desktop\\langchain\\venv\\lib\\site-packages (from httpx<0.29,>=0.27->ollama<1,>=0.4.4->langchain_ollama) (3.10)\n",
      "Requirement already satisfied: h11<0.15,>=0.13 in c:\\users\\administrator\\desktop\\langchain\\venv\\lib\\site-packages (from httpcore==1.*->httpx<0.29,>=0.27->ollama<1,>=0.4.4->langchain_ollama) (0.14.0)\n",
      "Requirement already satisfied: jsonpointer>=1.9 in c:\\users\\administrator\\desktop\\langchain\\venv\\lib\\site-packages (from jsonpatch<2.0,>=1.33->langchain-core<0.4.0,>=0.3.33->langchain_ollama) (3.0.0)\n",
      "Requirement already satisfied: orjson<4.0.0,>=3.9.14 in c:\\users\\administrator\\desktop\\langchain\\venv\\lib\\site-packages (from langsmith<0.4,>=0.1.125->langchain-core<0.4.0,>=0.3.33->langchain_ollama) (3.10.15)\n",
      "Requirement already satisfied: requests<3,>=2 in c:\\users\\administrator\\desktop\\langchain\\venv\\lib\\site-packages (from langsmith<0.4,>=0.1.125->langchain-core<0.4.0,>=0.3.33->langchain_ollama) (2.32.3)\n",
      "Requirement already satisfied: requests-toolbelt<2.0.0,>=1.0.0 in c:\\users\\administrator\\desktop\\langchain\\venv\\lib\\site-packages (from langsmith<0.4,>=0.1.125->langchain-core<0.4.0,>=0.3.33->langchain_ollama) (1.0.0)\n",
      "Requirement already satisfied: zstandard<0.24.0,>=0.23.0 in c:\\users\\administrator\\desktop\\langchain\\venv\\lib\\site-packages (from langsmith<0.4,>=0.1.125->langchain-core<0.4.0,>=0.3.33->langchain_ollama) (0.23.0)\n",
      "Requirement already satisfied: annotated-types>=0.6.0 in c:\\users\\administrator\\desktop\\langchain\\venv\\lib\\site-packages (from pydantic<3.0.0,>=2.5.2->langchain-core<0.4.0,>=0.3.33->langchain_ollama) (0.7.0)\n",
      "Requirement already satisfied: pydantic-core==2.27.2 in c:\\users\\administrator\\desktop\\langchain\\venv\\lib\\site-packages (from pydantic<3.0.0,>=2.5.2->langchain-core<0.4.0,>=0.3.33->langchain_ollama) (2.27.2)\n",
      "Requirement already satisfied: charset-normalizer<4,>=2 in c:\\users\\administrator\\desktop\\langchain\\venv\\lib\\site-packages (from requests<3,>=2->langsmith<0.4,>=0.1.125->langchain-core<0.4.0,>=0.3.33->langchain_ollama) (3.4.1)\n",
      "Requirement already satisfied: urllib3<3,>=1.21.1 in c:\\users\\administrator\\desktop\\langchain\\venv\\lib\\site-packages (from requests<3,>=2->langsmith<0.4,>=0.1.125->langchain-core<0.4.0,>=0.3.33->langchain_ollama) (2.3.0)\n",
      "Requirement already satisfied: exceptiongroup>=1.0.2 in c:\\users\\administrator\\desktop\\langchain\\venv\\lib\\site-packages (from anyio->httpx<0.29,>=0.27->ollama<1,>=0.4.4->langchain_ollama) (1.2.2)\n",
      "Requirement already satisfied: sniffio>=1.1 in c:\\users\\administrator\\desktop\\langchain\\venv\\lib\\site-packages (from anyio->httpx<0.29,>=0.27->ollama<1,>=0.4.4->langchain_ollama) (1.3.1)\n",
      "Note: you may need to restart the kernel to use updated packages.\n"
     ]
    }
   ],
   "source": [
    "%pip install faiss-cpu \n",
    "%pip install langchain_ollama "
   ]
  },
  {
   "cell_type": "code",
   "execution_count": 8,
   "metadata": {},
   "outputs": [],
   "source": [
    "from langchain_community.document_loaders import TextLoader\n",
    "from langchain_community.vectorstores import FAISS\n",
    "from langchain_ollama import OllamaEmbeddings\n",
    "from langchain_text_splitters import CharacterTextSplitter\n",
    "\n",
    "loader = TextLoader('speech.txt')\n",
    "documents=loader.load()\n",
    "text_splitter = CharacterTextSplitter(chunk_size=25,chunk_overlap=10)\n",
    "docs = text_splitter.split_documents(documents)"
   ]
  },
  {
   "cell_type": "code",
   "execution_count": 10,
   "metadata": {},
   "outputs": [
    {
     "data": {
      "text/plain": [
       "<langchain_community.vectorstores.faiss.FAISS at 0x1ed7d6d0310>"
      ]
     },
     "execution_count": 10,
     "metadata": {},
     "output_type": "execute_result"
    }
   ],
   "source": [
    "## Load the model and db\n",
    "modelName = 'llama3.2:1b'\n",
    "embeddings = OllamaEmbeddings(model=modelName)\n",
    "db=FAISS.from_documents(docs,embeddings)\n",
    "db"
   ]
  },
  {
   "cell_type": "code",
   "execution_count": 11,
   "metadata": {},
   "outputs": [
    {
     "data": {
      "text/plain": [
       "[Document(id='b39b4771-ec4d-47c6-b31d-cd9b9d60d6bc', metadata={'source': 'speech.txt'}, page_content=\"FAISS'in temel özellikleri şunlardır:\"),\n",
       " Document(id='b94474dc-93cc-4914-a4c2-5845fd984489', metadata={'source': 'speech.txt'}, page_content='FAISS, büyük veri kümelerinde benzer öğeleri hızlıca bulmak için güçlü bir araçtır.'),\n",
       " Document(id='6e97706a-0106-4e64-ad06-408084115469', metadata={'source': 'speech.txt'}, page_content='FAISS (Facebook AI Similarity Search), büyük ölçekli vektör arama yapabilen bir kütüphanedir. Yüksek boyutlu vektörleri hızlı bir şekilde aramak ve benzerlik ölçümü yapmak için optimize edilmiştir.')]"
      ]
     },
     "execution_count": 11,
     "metadata": {},
     "output_type": "execute_result"
    }
   ],
   "source": [
    "## querying\n",
    "query='''FAISS'in temel özellikleri nelerdir?'''\n",
    "docs = db.similarity_search(query, k=3)\n",
    "docs"
   ]
  },
  {
   "cell_type": "code",
   "execution_count": 12,
   "metadata": {},
   "outputs": [
    {
     "data": {
      "text/plain": [
       "\"FAISS'in temel özellikleri şunlardır:\""
      ]
     },
     "execution_count": 12,
     "metadata": {},
     "output_type": "execute_result"
    }
   ],
   "source": [
    "docs[0].page_content"
   ]
  },
  {
   "cell_type": "code",
   "execution_count": 15,
   "metadata": {},
   "outputs": [
    {
     "data": {
      "text/plain": [
       "\"FAISS'in temel özellikleri şunlardır:\""
      ]
     },
     "execution_count": 15,
     "metadata": {},
     "output_type": "execute_result"
    }
   ],
   "source": [
    "## retriever\n",
    "query='''FAISS'in temel özellikleri nelerdir?'''\n",
    "retriever = db.as_retriever()\n",
    "retriever.invoke(query, k=3)\n",
    "docs[0].page_content"
   ]
  },
  {
   "cell_type": "code",
   "execution_count": 18,
   "metadata": {},
   "outputs": [
    {
     "data": {
      "text/plain": [
       "[(Document(id='b39b4771-ec4d-47c6-b31d-cd9b9d60d6bc', metadata={'source': 'speech.txt'}, page_content=\"FAISS'in temel özellikleri şunlardır:\"),\n",
       "  0.3131186),\n",
       " (Document(id='b94474dc-93cc-4914-a4c2-5845fd984489', metadata={'source': 'speech.txt'}, page_content='FAISS, büyük veri kümelerinde benzer öğeleri hızlıca bulmak için güçlü bir araçtır.'),\n",
       "  0.4854807),\n",
       " (Document(id='6e97706a-0106-4e64-ad06-408084115469', metadata={'source': 'speech.txt'}, page_content='FAISS (Facebook AI Similarity Search), büyük ölçekli vektör arama yapabilen bir kütüphanedir. Yüksek boyutlu vektörleri hızlı bir şekilde aramak ve benzerlik ölçümü yapmak için optimize edilmiştir.'),\n",
       "  0.49819574)]"
      ]
     },
     "execution_count": 18,
     "metadata": {},
     "output_type": "execute_result"
    }
   ],
   "source": [
    "### simialrity search with score\n",
    "query='''FAISS'in temel özellikleri nelerdir?'''\n",
    "docs_with_score = db.similarity_search_with_score(query, k=3, return_score=True)\n",
    "docs_with_score"
   ]
  },
  {
   "cell_type": "code",
   "execution_count": 24,
   "metadata": {},
   "outputs": [
    {
     "data": {
      "text/plain": [
       "[Document(id='b39b4771-ec4d-47c6-b31d-cd9b9d60d6bc', metadata={'source': 'speech.txt'}, page_content=\"FAISS'in temel özellikleri şunlardır:\"),\n",
       " Document(id='b94474dc-93cc-4914-a4c2-5845fd984489', metadata={'source': 'speech.txt'}, page_content='FAISS, büyük veri kümelerinde benzer öğeleri hızlıca bulmak için güçlü bir araçtır.'),\n",
       " Document(id='6e97706a-0106-4e64-ad06-408084115469', metadata={'source': 'speech.txt'}, page_content='FAISS (Facebook AI Similarity Search), büyük ölçekli vektör arama yapabilen bir kütüphanedir. Yüksek boyutlu vektörleri hızlı bir şekilde aramak ve benzerlik ölçümü yapmak için optimize edilmiştir.')]"
      ]
     },
     "execution_count": 24,
     "metadata": {},
     "output_type": "execute_result"
    }
   ],
   "source": [
    "## search by vectors\n",
    "embeddings_vector=embeddings.embed_query(query)\n",
    "db.similarity_search_by_vector(embeddings_vector, k=3)\n",
    "#db.similarity_search_with_score_by_vector(embeddings_vector, k=3)"
   ]
  },
  {
   "cell_type": "code",
   "execution_count": null,
   "metadata": {},
   "outputs": [],
   "source": [
    "## save db\n",
    "db.save_local('faiss_db')"
   ]
  },
  {
   "cell_type": "code",
   "execution_count": null,
   "metadata": {},
   "outputs": [
    {
     "data": {
      "text/plain": [
       "[Document(id='b39b4771-ec4d-47c6-b31d-cd9b9d60d6bc', metadata={'source': 'speech.txt'}, page_content=\"FAISS'in temel özellikleri şunlardır:\"),\n",
       " Document(id='b94474dc-93cc-4914-a4c2-5845fd984489', metadata={'source': 'speech.txt'}, page_content='FAISS, büyük veri kümelerinde benzer öğeleri hızlıca bulmak için güçlü bir araçtır.'),\n",
       " Document(id='6e97706a-0106-4e64-ad06-408084115469', metadata={'source': 'speech.txt'}, page_content='FAISS (Facebook AI Similarity Search), büyük ölçekli vektör arama yapabilen bir kütüphanedir. Yüksek boyutlu vektörleri hızlı bir şekilde aramak ve benzerlik ölçümü yapmak için optimize edilmiştir.')]"
      ]
     },
     "execution_count": 26,
     "metadata": {},
     "output_type": "execute_result"
    },
    {
     "ename": "",
     "evalue": "",
     "output_type": "error",
     "traceback": [
      "\u001b[1;31mThe Kernel crashed while executing code in the current cell or a previous cell. \n",
      "\u001b[1;31mPlease review the code in the cell(s) to identify a possible cause of the failure. \n",
      "\u001b[1;31mClick <a href='https://aka.ms/vscodeJupyterKernelCrash'>here</a> for more info. \n",
      "\u001b[1;31mView Jupyter <a href='command:jupyter.viewOutput'>log</a> for further details."
     ]
    }
   ],
   "source": [
    "## load db\n",
    "new_db = FAISS.load_local('faiss_db',embeddings,allow_dangerous_deserialization=True)\n",
    "docs = new_db.similarity_search(query, k=3)\n",
    "docs"
   ]
  }
 ],
 "metadata": {
  "kernelspec": {
   "display_name": "Python 3",
   "language": "python",
   "name": "python3"
  },
  "language_info": {
   "codemirror_mode": {
    "name": "ipython",
    "version": 3
   },
   "file_extension": ".py",
   "mimetype": "text/x-python",
   "name": "python",
   "nbconvert_exporter": "python",
   "pygments_lexer": "ipython3",
   "version": "3.10.16"
  }
 },
 "nbformat": 4,
 "nbformat_minor": 2
}
